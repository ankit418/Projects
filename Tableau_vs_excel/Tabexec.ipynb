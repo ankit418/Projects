{
 "cells": [
  {
   "attachments": {},
   "cell_type": "markdown",
   "metadata": {},
   "source": [
    "# Microsoft Excel  VS Tableau Desktop\n",
    "\n",
    "<br>\n",
    "<br>\n",
    "<br>\n",
    "<br>\n",
    "<br>\n",
    "<br>\n",
    "<br>\n",
    "<br>"
   ]
  },
  {
   "attachments": {},
   "cell_type": "markdown",
   "metadata": {},
   "source": [
    "## Background\n",
    "\n",
    "<font size = \"3\">\n",
    "\n",
    "* Raw data is of limited use . Raw data only becomes useful ,  when it is cleaned and organized properly . The useful insights can be gathered from this organized data with the help of visualization tools as per the requirements. These useful insights are imperative for informed decision making.\n",
    "\n",
    "* Numerous tools are available in public space for managing and visualizing the data. Therefore, It becomes <strong>crucial to know the use-case , pros and cons of some widely used tool.</strong> </font>\n",
    "\n",
    "### Microsoft Excel and Tableau Desktop \n",
    "\n",
    "<font size = \"3\">\n",
    "\n",
    "* Microsoft Excel is a software product. Generally used for storing , organizing and manipulating data. In addition to this , The Data visualization features Such as - bar charts , pivot table charts etc. makes Excel a one-stop solution for general usage.\n",
    "\n",
    "* Tableau software company has created host of tools to explore , visualize and present data. It has numerous product offerings for data analysis .In this analysis we will be using \" Tableau Desktop \". It is widely used for visualization of data.</font>\n",
    "\n",
    "## Objective\n",
    "\n",
    "<font size = \"3\">\n",
    "\n",
    "* In this analysis we will be creating Dashboards In Microsoft excel as well as Tableau Desktop.\n",
    "\n",
    "* Eventually , we will be listing down the pros and cons of both softwares. In order to find out , how one should these softwares to get best out of them.</font> \n"
   ]
  },
  {
   "attachments": {},
   "cell_type": "markdown",
   "metadata": {},
   "source": [
    "### About the dataset\n",
    "\n",
    "<font size = \"3\">In this analysis , we will be using the bike sales dataset , Which have over 1000 rows.</font>"
   ]
  },
  {
   "attachments": {},
   "cell_type": "markdown",
   "metadata": {},
   "source": [
    "# Steps Taken\n",
    "\n",
    "## Data Cleaning using Excel\n",
    "\n",
    "<font size = \"3\">While cleaning the raw data. First of all i removed all duplicates from the dataset. The \"Remove duplicate\" is a pre-defined feature in the excel and removes all the duplicate values in dataset.</font>"
   ]
  },
  {
   "attachments": {},
   "cell_type": "markdown",
   "metadata": {},
   "source": [
    "<div>\n",
    "<img src=\"Capture2.PNG\" , width = '700'/>\n",
    "</div>"
   ]
  },
  {
   "attachments": {},
   "cell_type": "markdown",
   "metadata": {},
   "source": [
    "<font size = \"3\">In addition to removing duplicates , The acronym or short-form sentences are converted to the full-form using the \"Find and replace with\" feature in excel. It helps to avoid any form of confusion later on.</font>"
   ]
  },
  {
   "attachments": {},
   "cell_type": "markdown",
   "metadata": {},
   "source": [
    "<div>\n",
    "<img src=\"Captureg.PNG\" , width = '700'/>\n",
    "</div>"
   ]
  },
  {
   "attachments": {},
   "cell_type": "markdown",
   "metadata": {},
   "source": [
    "<font size = \"3\">Any improper value should be replaced with suitable values . It avoid problems while sorting the data , when making the pivot charts.</font>"
   ]
  },
  {
   "attachments": {},
   "cell_type": "markdown",
   "metadata": {},
   "source": [
    "<div>\n",
    "<img src=\"Capture5.PNG\" , width = '700'/>\n",
    "</div>"
   ]
  },
  {
   "attachments": {},
   "cell_type": "markdown",
   "metadata": {},
   "source": [
    "<font size = \"3\">In order to create an interactive dashboard , we will be creating the pivot charts first. </font>"
   ]
  },
  {
   "attachments": {},
   "cell_type": "markdown",
   "metadata": {},
   "source": [
    "<div>\n",
    "<img src=\"Capture10.PNG\" , width = '700'/>\n",
    "</div>"
   ]
  },
  {
   "attachments": {},
   "cell_type": "markdown",
   "metadata": {},
   "source": [
    "<font size = \"3\">The Two pivot charts shown above looks completely fine. No further changes are necessary in these pivot charts. The pattern and trends could be easily derived from these charts.\n",
    "\n",
    "The pivot chart shown below does not have any pattern , as there are plenty of age values on the x-axis. We need to group these values under some form of age-brackets like - young , old etc.\n",
    "</font>"
   ]
  },
  {
   "attachments": {},
   "cell_type": "markdown",
   "metadata": {},
   "source": [
    "<div>\n",
    "<img src=\"Capture 9.PNG\" , width = '700'/>\n",
    "</div>"
   ]
  },
  {
   "attachments": {},
   "cell_type": "markdown",
   "metadata": {},
   "source": [
    "<font size = \"3\">In the source sheet a \"Nested if statement\" is used to create a new column 'Age-Bracket'.This \"Nested If statement\" groups age-values into three age-brackets i.e Adolscent , Middle Age and Old.</font>"
   ]
  },
  {
   "attachments": {},
   "cell_type": "markdown",
   "metadata": {},
   "source": [
    "<div>\n",
    "<img src=\"Capture4.PNG\" , width = '700'/>\n",
    "</div>"
   ]
  },
  {
   "attachments": {},
   "cell_type": "markdown",
   "metadata": {},
   "source": [
    "<font size = \"3\">The new pivot chart is created using the age-bracket column , Here the trend is clearly seen. The middle aged people are purchasing more bikes than adolscent and old people.</font>"
   ]
  },
  {
   "attachments": {},
   "cell_type": "markdown",
   "metadata": {},
   "source": [
    "<div>\n",
    "<img src=\"Capture11.PNG\" , width = '700'/>\n",
    "</div>"
   ]
  },
  {
   "attachments": {},
   "cell_type": "markdown",
   "metadata": {},
   "source": [
    "## Data Presentation"
   ]
  },
  {
   "attachments": {},
   "cell_type": "markdown",
   "metadata": {},
   "source": [
    "<font size = \"3\">All the pivot charts are placed next to each other to create a dashboard.\n",
    "The Slicers are linked to the pivot all the three pivot charts as shown below.\n",
    "\n",
    "Slicers are very useful to selectively filter the data , During the analysis.\n",
    "</font>"
   ]
  },
  {
   "attachments": {},
   "cell_type": "markdown",
   "metadata": {},
   "source": [
    "<div>\n",
    "<img src=\"Capture8.PNG\" , width = '700'/>\n",
    "</div>"
   ]
  },
  {
   "attachments": {},
   "cell_type": "markdown",
   "metadata": {},
   "source": [
    "<font size = \"3\">Although , Excel doesnt provide any dedicated worksheet for dashboard. An well-organized dashboard can be created by making few adjustments to a general excel worksheet. like - removing gridlines , Adjusting charts and slicer properly on the worksheet.\n",
    "\n",
    "\n",
    "By following all the above steps . an interactive dashboard can be created in excel , as shown below.</font>"
   ]
  },
  {
   "attachments": {},
   "cell_type": "markdown",
   "metadata": {},
   "source": [
    "<div>\n",
    "<img src=\"Unt.gif\" , width = '800'/>\n",
    "</div>"
   ]
  },
  {
   "attachments": {},
   "cell_type": "markdown",
   "metadata": {},
   "source": [
    "# Data Cleaning using Tableau\n",
    "\n",
    "<font size = \"3\">Tableau desktop is primarily used for visualizing the data . Therefore , It does not have data cleaning features like - \"Remove duplicates\" (which is pre-defined in excel) . However , A calculated field with unique values(without any duplicates) could be created in tableau by using following expression.</font>"
   ]
  },
  {
   "attachments": {},
   "cell_type": "markdown",
   "metadata": {},
   "source": [
    "<div>\n",
    "<img src=\"Tableau1.PNG\" , width = '700'/>\n",
    "</div>"
   ]
  },
  {
   "attachments": {},
   "cell_type": "markdown",
   "metadata": {},
   "source": [
    "<font size = \"3\">An important advantage of Tableau is that , It seamlessly groups the value in columns . On which the operations like aliases , groups etc. can be easily applied.</font>"
   ]
  },
  {
   "attachments": {},
   "cell_type": "markdown",
   "metadata": {},
   "source": [
    "<div>\n",
    "<img src=\"Tableau9.PNG\" , width = '700'/>\n",
    "</div>"
   ]
  },
  {
   "attachments": {},
   "cell_type": "markdown",
   "metadata": {},
   "source": [
    "<div>\n",
    "<img src=\"Tableau10.PNG\" , width = '700'/>\n",
    "</div>"
   ]
  },
  {
   "attachments": {},
   "cell_type": "markdown",
   "metadata": {},
   "source": [
    "<font size = \"3\">In Tableau , The Sheet , Dashboard and storyboard are seperately defined.\n",
    "\n",
    "In the sheets ,  the visualizations could be easily created by just dragging and dropping any dimension/measure from the dataset, to the rows or column of that sheet.</font>"
   ]
  },
  {
   "attachments": {},
   "cell_type": "markdown",
   "metadata": {},
   "source": [
    "<div>\n",
    "<img src=\"Tableau2.PNG\" , width = '700'/>\n",
    "</div>"
   ]
  },
  {
   "attachments": {},
   "cell_type": "markdown",
   "metadata": {},
   "source": [
    "<font size = \"3\">In the bar graph shown above, The difference between bars is appearing very marginal. Because tableau includes the Zero by default.We dont want that.\n",
    "\n",
    "Therefore , We have to exclude zero and adjust the axis according to our requirement.</font>"
   ]
  },
  {
   "attachments": {},
   "cell_type": "markdown",
   "metadata": {},
   "source": [
    "<div>\n",
    "<img src=\"Tableau3.PNG\" , width = '700'/>\n",
    "</div>"
   ]
  },
  {
   "attachments": {},
   "cell_type": "markdown",
   "metadata": {},
   "source": [
    "<font size = \"3\">Now , The difference between the bars is appearing to be significant.Such adjustments in the data visualization should be made, as per the requirements.\n",
    "\n",
    "The example below shows, how the news channel  has fiddled with y-axis . To bolster the narrative , Infact the y-axis is moved to left-hand side . So user is likely to miss it entirely.</font>"
   ]
  },
  {
   "attachments": {},
   "cell_type": "markdown",
   "metadata": {},
   "source": [
    "<div>\n",
    "<img src=\"Tableau11.PNG\" , width = '700'/>\n",
    "</div>"
   ]
  },
  {
   "attachments": {},
   "cell_type": "markdown",
   "metadata": {},
   "source": [
    "<font size = \"3\">Now Coming back to our analysis.\n",
    "\n",
    "Like excel , In tableau as well , we are getting the same graph (shown below). It lacks trend and has too many age-values on x-axis.</font>"
   ]
  },
  {
   "attachments": {},
   "cell_type": "markdown",
   "metadata": {},
   "source": [
    "<div>\n",
    "<img src=\"Tableau4.PNG\" , width = '700'/>\n",
    "</div>"
   ]
  },
  {
   "attachments": {},
   "cell_type": "markdown",
   "metadata": {},
   "source": [
    "<font size = \"3\">In Tableau , this issue can be easily resolved by grouping the ages manually under age-brakets i.e 'adolscent' , 'Middle age' , 'old' etc.</font>"
   ]
  },
  {
   "attachments": {},
   "cell_type": "markdown",
   "metadata": {},
   "source": [
    "<div>\n",
    "<img src=\"Tableau5.PNG\" , width = '700'/>\n",
    "</div>"
   ]
  },
  {
   "attachments": {},
   "cell_type": "markdown",
   "metadata": {},
   "source": [
    "<font size = \"3\">Also , In tableau a IF-ELIF-ELSE expression can be used to solve this problem.</font>"
   ]
  },
  {
   "attachments": {},
   "cell_type": "markdown",
   "metadata": {},
   "source": [
    "<div>\n",
    "<img src=\"Tableau8.PNG\" , width = '700'/>\n",
    "</div>"
   ]
  },
  {
   "attachments": {},
   "cell_type": "markdown",
   "metadata": {},
   "source": [
    "<font size = \"3\">Tableau has a dedicated dashboard sheet.\n",
    "\n",
    "The dashboard created in Tableau can be easily shared or embedded with the audience. As shown below.</font>"
   ]
  },
  {
   "attachments": {},
   "cell_type": "markdown",
   "metadata": {},
   "source": [
    "<div class='tableauPlaceholder' id='viz1676722908128' style='position: relative'><noscript><a href='#'><img alt='Dashboard 1 ' src='https:&#47;&#47;public.tableau.com&#47;static&#47;images&#47;2N&#47;2NKPQF55Q&#47;1_rss.png' style='border: none' /></a></noscript><object class='tableauViz'  style='display:none;'><param name='host_url' value='https%3A%2F%2Fpublic.tableau.com%2F' /> <param name='embed_code_version' value='3' /> <param name='path' value='shared&#47;2NKPQF55Q' /> <param name='toolbar' value='yes' /><param name='static_image' value='https:&#47;&#47;public.tableau.com&#47;static&#47;images&#47;2N&#47;2NKPQF55Q&#47;1.png' /> <param name='animate_transition' value='yes' /><param name='display_static_image' value='yes' /><param name='display_spinner' value='yes' /><param name='display_overlay' value='yes' /><param name='display_count' value='yes' /><param name='language' value='en-US' /></object></div>                <script type='text/javascript'>                    var divElement = document.getElementById('viz1676722908128');                    var vizElement = divElement.getElementsByTagName('object')[0];                    if ( divElement.offsetWidth > 800 ) { vizElement.style.width='100%';vizElement.style.height=(divElement.offsetWidth*0.75)+'px';} else if ( divElement.offsetWidth > 500 ) { vizElement.style.width='100%';vizElement.style.height=(divElement.offsetWidth*0.75)+'px';} else { vizElement.style.width='100%';vizElement.style.height='1077px';}                     var scriptElement = document.createElement('script');                    scriptElement.src = 'https://public.tableau.com/javascripts/api/viz_v1.js';                    vizElement.parentNode.insertBefore(scriptElement, vizElement);                </script>"
   ]
  },
  {
   "attachments": {},
   "cell_type": "markdown",
   "metadata": {},
   "source": [
    "## Conclusion\n",
    "\n",
    "<font size = \"3\">Both Excel and Tableau Desktop , are great softwares for managing the data. However, there are some differences:\n",
    "\n",
    "<strong>Excel:</strong>\n",
    "\n",
    "Pros-\n",
    "<br>Excel allows systematic visual inspection and cleaning of datasets.\n",
    "<br>Excel provides very user-freindly features like pivot charts , slicer etc. To create dashboards for data presentation.\n",
    "\n",
    "Cons -\n",
    "<br>Lacks dedicated dashboards for data-visualization.\n",
    "<br>Visualizations created in excel could not be shared or embedded.\n",
    "\n",
    "<strong>Tableau</strong>\n",
    "\n",
    "Pros -\n",
    "<br>Tableau creates proffesional-grade Dashboards visualizations, Which can be easily shared or embedded.\n",
    "<br>Tableau visualization allows user to dive deeper and deeper into the data and uncover patterns.\n",
    "\n",
    "Cons -\n",
    "<br>Some data cleaning features are not pre-defined.\n",
    "<br>Visual inspection and manipulation of data is limited and not as good as excel.\n",
    "\n",
    "We can clearly see. That on one hand, Tableau is not as good as excel, when it comes to visual inspection , cleaning and manipulating data . While on other hand Excel is not at par with Tableau when it comes to visualizing the data.\n",
    "<br>This was expected because \"Tableau desktop\" is meant for visualization , Tableau provides a different product \"Tableau Prep\" for visual inspection , manipulation and cleaning of data.\n",
    "\n",
    "In the conclusion we can say. That Excel works well when you have to create quick, one-off reports. While , Tableau Desktop is helpful for more detailed an refined visualization.\n",
    "\n",
    "Therefore , In order to get best out of these softwares . <strong>A user can use the Excel for visual inspection , manipulation and cleaning of data . This data , can then be imported to tableau desktop, to create and distribute proffesional visualizations. </strong></font>\n"
   ]
  },
  {
   "cell_type": "markdown",
   "metadata": {},
   "source": []
  }
 ],
 "metadata": {
  "kernelspec": {
   "display_name": "base",
   "language": "python",
   "name": "python3"
  },
  "language_info": {
   "codemirror_mode": {
    "name": "ipython",
    "version": 3
   },
   "file_extension": ".py",
   "mimetype": "text/x-python",
   "name": "python",
   "nbconvert_exporter": "python",
   "pygments_lexer": "ipython3",
   "version": "3.10.8"
  },
  "orig_nbformat": 4,
  "vscode": {
   "interpreter": {
    "hash": "06e4f2cdf0fdfc5e9a0f340de3801660c1a0780341719730a05e2ba7070e2915"
   }
  }
 },
 "nbformat": 4,
 "nbformat_minor": 2
}
